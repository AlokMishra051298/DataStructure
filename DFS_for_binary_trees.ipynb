{
 "cells": [
  {
   "cell_type": "markdown",
   "metadata": {},
   "source": [
    "# D.F.S (using Recursion)\n",
    "\n",
    "DFS uses stack to traverse the whole tree. Here the code is sectionwise\n",
    "1. Tree\n",
    "2. Stack\n",
    "3. State (Class which help us to keep of Node and the visited_left and visited_right child.\n",
    "4. Recursive function inside a pre_order() function "
   ]
  },
  {
   "cell_type": "markdown",
   "metadata": {},
   "source": [
    "# 1. Tree"
   ]
  },
  {
   "cell_type": "code",
   "execution_count": 5,
   "metadata": {},
   "outputs": [],
   "source": [
    "# this code makes the tree that we'll traverse\n",
    "\n",
    "class Node(object):\n",
    "        \n",
    "    def __init__(self,value = None):\n",
    "        self.value = value\n",
    "        self.left = None\n",
    "        self.right = None\n",
    "        \n",
    "    def set_value(self,value):\n",
    "        self.value = value\n",
    "        \n",
    "    def get_value(self):\n",
    "        return self.value\n",
    "        \n",
    "    def set_left_child(self,left):\n",
    "        self.left = left\n",
    "        \n",
    "    def set_right_child(self, right):\n",
    "        self.right = right\n",
    "        \n",
    "    def get_left_child(self):\n",
    "        return self.left\n",
    "    \n",
    "    def get_right_child(self):\n",
    "        return self.right\n",
    "\n",
    "    def has_left_child(self):\n",
    "        return self.left != None\n",
    "    \n",
    "    def has_right_child(self):\n",
    "        return self.right != None\n",
    "    \n",
    "    # define __repr_ to decide what a print statement displays for a Node object\n",
    "    def __repr__(self):\n",
    "        return f\"Node({self.get_value()})\"\n",
    "    \n",
    "    def __str__(self):\n",
    "        return f\"Node({self.get_value()})\"\n",
    "    \n",
    "    \n",
    "class Tree():\n",
    "    def __init__(self, value=None):\n",
    "        self.root = Node(value)\n",
    "        \n",
    "    def get_root(self):\n",
    "        return self.root"
   ]
  },
  {
   "cell_type": "markdown",
   "metadata": {},
   "source": [
    "# 2. Stack"
   ]
  },
  {
   "cell_type": "code",
   "execution_count": 4,
   "metadata": {},
   "outputs": [],
   "source": [
    "# Let's define a stack to help keep track of the tree nodes\n",
    "class Stack():\n",
    "    def __init__(self):\n",
    "        self.list = list()\n",
    "        \n",
    "    def push(self,value):\n",
    "        self.list.append(value)\n",
    "        \n",
    "    def pop(self):\n",
    "        return self.list.pop()\n",
    "        \n",
    "    def top(self):\n",
    "        if len(self.list) > 0:\n",
    "            return self.list[-1]\n",
    "        else:\n",
    "            return None\n",
    "        \n",
    "    def is_empty(self):\n",
    "        return len(self.list) == 0"
   ]
  },
  {
   "cell_type": "markdown",
   "metadata": {},
   "source": [
    "# 3. State"
   ]
  },
  {
   "cell_type": "code",
   "execution_count": 3,
   "metadata": {},
   "outputs": [],
   "source": [
    "class State(object):\n",
    "    def __init__(self,node):\n",
    "        self.node = node\n",
    "        self.visited_left = False\n",
    "        self.visited_right = False\n",
    "        \n",
    "    def get_node(self):\n",
    "        return self.node\n",
    "    \n",
    "    def get_visited_left(self):\n",
    "        return self.visited_left\n",
    "    \n",
    "    def get_visited_right(self):\n",
    "        return self.visited_right\n",
    "    \n",
    "    def set_visited_left(self):\n",
    "        self.visited_left = True\n",
    "        \n",
    "    def set_visited_right(self):\n",
    "        self.visited_right = True\n",
    "        \n",
    "    def __repr__(self):\n",
    "        s = f\"\"\"{self.node}\n",
    "visited_left: {self.visited_left}\n",
    "visited_right: {self.visited_right}\n",
    "        \"\"\"\n",
    "        return s"
   ]
  },
  {
   "cell_type": "markdown",
   "metadata": {},
   "source": [
    "# 4. Pre_order includes traverse() recursive-fuction"
   ]
  },
  {
   "cell_type": "code",
   "execution_count": 7,
   "metadata": {},
   "outputs": [],
   "source": [
    "def pre_order(tree):\n",
    "    visit_order=list()\n",
    "    stack=Stack()\n",
    "    node=tree.get_root()\n",
    "    state=State(node)\n",
    "    stack=Stack()\n",
    "    stack.push(state)\n",
    "    visit_order.append(node.get_value())\n",
    "    \n",
    "    def traverse(node, state, stack):\n",
    "        if node==None:\n",
    "            return \n",
    "        if node.has_left_child() and not state.get_visited_left():\n",
    "            state.set_visited_left()\n",
    "            node=node.get_left_child()\n",
    "            visit_order.append(node.get_value())\n",
    "            state = State(node)\n",
    "            stack.push(state)\n",
    "\n",
    "        elif node.has_right_child() and not state.get_visited_right():\n",
    "            state.set_visited_right()\n",
    "            node=node.get_right_child()\n",
    "            visit_order.append(node.get_value())\n",
    "            state = State(node)\n",
    "            stack.push(state)\n",
    "        else:\n",
    "            stack.pop()\n",
    "            if not stack.is_empty():\n",
    "                state = stack.top()\n",
    "                node = state.get_node()\n",
    "            else:\n",
    "                node=None\n",
    "        traverse(node, state, stack)\n",
    "    traverse(node, state, stack)\n",
    "    return visit_order"
   ]
  },
  {
   "cell_type": "markdown",
   "metadata": {},
   "source": [
    "# 5. Make tree and insert nodes"
   ]
  },
  {
   "cell_type": "code",
   "execution_count": 10,
   "metadata": {},
   "outputs": [],
   "source": [
    "tree = Tree(\"5\")\n",
    "tree.get_root().set_left_child(Node(\"2\"))\n",
    "tree.get_root().set_right_child(Node(\"8\"))\n",
    "tree.get_root().get_left_child().set_right_child(Node(\"1\"))\n",
    "tree.get_root().get_left_child().set_left_child(Node(\"0\"))\n",
    "tree.get_root().get_right_child().set_right_child(Node(\"10\"))\n",
    "tree.get_root().get_right_child().set_left_child(Node(\"7\"))"
   ]
  },
  {
   "attachments": {
    "image.png": {
     "image/png": "[encoded data removed]"
    }
   },
   "cell_type": "markdown",
   "metadata": {},
   "source": [
    "# 6. Test (let's take an example)\n",
    "![image.png](attachment:image.png)"
   ]
  },
  {
   "cell_type": "code",
   "execution_count": 11,
   "metadata": {},
   "outputs": [
    {
     "data": {
      "text/plain": [
       "['5', '2', '0', '1', '8', '7', '10']"
      ]
     },
     "execution_count": 11,
     "metadata": {},
     "output_type": "execute_result"
    }
   ],
   "source": [
    "pre_order(tree)"
   ]
  }
 ],
 "metadata": {
  "kernelspec": {
   "display_name": "Python 3",
   "language": "python",
   "name": "python3"
  },
  "language_info": {
   "codemirror_mode": {
    "name": "ipython",
    "version": 3
   },
   "file_extension": ".py",
   "mimetype": "text/x-python",
   "name": "python",
   "nbconvert_exporter": "python",
   "pygments_lexer": "ipython3",
   "version": "3.7.1"
  }
 },
 "nbformat": 4,
 "nbformat_minor": 2
}
