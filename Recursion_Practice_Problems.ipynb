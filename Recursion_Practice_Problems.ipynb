{
  "nbformat": 4,
  "nbformat_minor": 0,
  "metadata": {
    "colab": {
      "name": "Recursion_Practice_Problems.ipynb",
      "provenance": [],
      "collapsed_sections": [],
      "authorship_tag": "ABX9TyM+J3Vd95tQay9XIULRi4/y",
      "include_colab_link": true
    },
    "kernelspec": {
      "name": "python3",
      "display_name": "Python 3"
    }
  },
  "cells": [
    {
      "cell_type": "markdown",
      "metadata": {
        "id": "view-in-github",
        "colab_type": "text"
      },
      "source": [
        "<a href=\"https://colab.research.google.com/github/AlokMishra051298/DataStructure/blob/master/Recursion_Practice_Problems.ipynb\" target=\"_parent\"><img src=\"https://colab.research.google.com/assets/colab-badge.svg\" alt=\"Open In Colab\"/></a>"
      ]
    },
    {
      "cell_type": "markdown",
      "metadata": {
        "id": "8AkxE6Cxpq3r"
      },
      "source": [
        "# Recursion Practice Set"
      ]
    },
    {
      "cell_type": "markdown",
      "metadata": {
        "id": "HUlPJjijp68E"
      },
      "source": [
        "##Factorial"
      ]
    },
    {
      "cell_type": "code",
      "metadata": {
        "id": "nkoZITZco44H"
      },
      "source": [
        "def fact(n):\r\n",
        "    if n<=1:\r\n",
        "        return 1 \r\n",
        "    return n*fact(n-1)"
      ],
      "execution_count": null,
      "outputs": []
    },
    {
      "cell_type": "code",
      "metadata": {
        "colab": {
          "base_uri": "https://localhost:8080/"
        },
        "id": "VBSKoT_DpYbm",
        "outputId": "ad768128-e698-4d63-aa45-08692f68c4a6"
      },
      "source": [
        "fact(0)"
      ],
      "execution_count": null,
      "outputs": [
        {
          "output_type": "execute_result",
          "data": {
            "text/plain": [
              "1"
            ]
          },
          "metadata": {
            "tags": []
          },
          "execution_count": 2
        }
      ]
    },
    {
      "cell_type": "markdown",
      "metadata": {
        "id": "vEnv09DArTxO"
      },
      "source": [
        "##Sum of digits of number \"n\""
      ]
    },
    {
      "cell_type": "code",
      "metadata": {
        "id": "AUslGWhZrRt5"
      },
      "source": [
        "def sod(n):\r\n",
        "    if (n//10 == 0):\r\n",
        "        return n \r\n",
        "    remainder = n % 10\r\n",
        "    next_num =  n//10\r\n",
        "    return remainder+sod(next_num)"
      ],
      "execution_count": null,
      "outputs": []
    },
    {
      "cell_type": "code",
      "metadata": {
        "colab": {
          "base_uri": "https://localhost:8080/"
        },
        "id": "wbJVtfNCr7Zr",
        "outputId": "cb598578-d6ea-4bb2-a5d9-2695443a45ee"
      },
      "source": [
        "sod(123456789123456789123422)"
      ],
      "execution_count": null,
      "outputs": [
        {
          "output_type": "execute_result",
          "data": {
            "text/plain": [
              "104"
            ]
          },
          "metadata": {
            "tags": []
          },
          "execution_count": 4
        }
      ]
    },
    {
      "cell_type": "markdown",
      "metadata": {
        "id": "7ozbH7yqs7HO"
      },
      "source": [
        "##Reverse the characters of the word"
      ]
    },
    {
      "cell_type": "code",
      "metadata": {
        "id": "ho9WYCoRswvy"
      },
      "source": [
        "def reverseTheWord(word):\r\n",
        "    length = len(word)\r\n",
        "    if length==0:\r\n",
        "        return \"\"\r\n",
        "    return word[length-1]+reverseTheWord(word[:length-1])"
      ],
      "execution_count": null,
      "outputs": []
    },
    {
      "cell_type": "code",
      "metadata": {
        "colab": {
          "base_uri": "https://localhost:8080/",
          "height": 35
        },
        "id": "nQ7vVNcEtGrC",
        "outputId": "e9d3e453-ad66-4b62-b79c-ec4ee09637da"
      },
      "source": [
        "reverseTheWord(\"alok\")"
      ],
      "execution_count": null,
      "outputs": [
        {
          "output_type": "execute_result",
          "data": {
            "application/vnd.google.colaboratory.intrinsic+json": {
              "type": "string"
            },
            "text/plain": [
              "'kola'"
            ]
          },
          "metadata": {
            "tags": []
          },
          "execution_count": 6
        }
      ]
    },
    {
      "cell_type": "markdown",
      "metadata": {
        "id": "xgmaPGhMwuQv"
      },
      "source": [
        "##Palindrome"
      ]
    },
    {
      "cell_type": "code",
      "metadata": {
        "id": "xhrl-bJPwzsg"
      },
      "source": [
        "def check_palindrome(string):\r\n",
        "    string=string.lower()\r\n",
        "    initial = 0\r\n",
        "    last_index = len(string)-1\r\n",
        "    if initial==last_index:\r\n",
        "        return True\r\n",
        "    if string[initial]!=string[last_index]:\r\n",
        "        return False\r\n",
        "    return check_palindrome(string[initial+1:last_index])"
      ],
      "execution_count": null,
      "outputs": []
    },
    {
      "cell_type": "code",
      "metadata": {
        "colab": {
          "base_uri": "https://localhost:8080/"
        },
        "id": "fHG9Jx0ExubX",
        "outputId": "e3cf7fa6-6e99-4869-e27b-d03bf4030ec7"
      },
      "source": [
        "check_palindrome(\"kadak\")"
      ],
      "execution_count": null,
      "outputs": [
        {
          "output_type": "execute_result",
          "data": {
            "text/plain": [
              "True"
            ]
          },
          "metadata": {
            "tags": []
          },
          "execution_count": 8
        }
      ]
    },
    {
      "cell_type": "markdown",
      "metadata": {
        "id": "Wg1Et6HR7Ybt"
      },
      "source": [
        "##Print BST in Sorted Order"
      ]
    },
    {
      "cell_type": "markdown",
      "metadata": {
        "id": "nSNaw0rQ7zI-"
      },
      "source": [
        "###BST"
      ]
    },
    {
      "cell_type": "code",
      "metadata": {
        "id": "alTO24c87jmD"
      },
      "source": [
        "class node:\r\n",
        "    '''It simply creates a node'''\r\n",
        "    def __init__(self,data):\r\n",
        "        self.data=data\r\n",
        "        self.right=None\r\n",
        "        self.left=None"
      ],
      "execution_count": null,
      "outputs": []
    },
    {
      "cell_type": "code",
      "metadata": {
        "id": "wAeKQOog7pr9"
      },
      "source": [
        "class bst:\r\n",
        "    #constructor\r\n",
        "    def __init__(self):\r\n",
        "        self.root=None\r\n",
        "    #if tree is not created\r\n",
        "    def create(self,data):\r\n",
        "        n=node(data)\r\n",
        "        self.root=n\r\n",
        "        return self.root\r\n",
        "    #adding node\r\n",
        "    def insert(self,data):\r\n",
        "        if self.root==None:\r\n",
        "            self.start=self.create(data)\r\n",
        "        else:\r\n",
        "            n=node(data)\r\n",
        "            self.other=self.root\r\n",
        "            while (self.other!=None):\r\n",
        "                right=self.other.right\r\n",
        "                left=self.other.left\r\n",
        "                if(data>=self.other.data):\r\n",
        "                    self.start=self.other\r\n",
        "                    self.other=right\r\n",
        "                    rig=1\r\n",
        "                elif(data<self.other.data):\r\n",
        "                    self.start=self.other\r\n",
        "                    self.other=left\r\n",
        "                    rig=0\r\n",
        "            if rig==0:\r\n",
        "                self.other=n\r\n",
        "                self.start.left=self.other\r\n",
        "            else:\r\n",
        "                self.other=n\r\n",
        "                self.start.right=self.other\r\n",
        "        return self.root\r\n",
        "\r\n",
        "    def __str__(self):\r\n",
        "        return self.print_bst(self.root)"
      ],
      "execution_count": null,
      "outputs": []
    },
    {
      "cell_type": "markdown",
      "metadata": {
        "id": "aBNz5-lo78rI"
      },
      "source": [
        "###code to print BST in sorted order"
      ]
    },
    {
      "cell_type": "code",
      "metadata": {
        "id": "94KyNQLU75e7"
      },
      "source": [
        "elements = [4,3,12, 1,2, 5, 7]\r\n",
        "new_bst = bst()\r\n",
        "for i in range(len(elements)):\r\n",
        "    new_bst.insert(elements[i])"
      ],
      "execution_count": null,
      "outputs": []
    },
    {
      "cell_type": "code",
      "metadata": {
        "id": "Pe8HQAbd3Clp"
      },
      "source": [
        "def sortedBST(root):\r\n",
        "    if root.left!=None:\r\n",
        "        sortedBST(root.left)\r\n",
        "    print(root.data)\r\n",
        "    if root.right!=None:\r\n",
        "        sortedBST(root.right)"
      ],
      "execution_count": null,
      "outputs": []
    },
    {
      "cell_type": "code",
      "metadata": {
        "colab": {
          "base_uri": "https://localhost:8080/"
        },
        "id": "RFxL6N3130gC",
        "outputId": "c606a1cb-30c4-4bc9-b1c9-91312b7bb662"
      },
      "source": [
        "sortedBST(new_bst.root)"
      ],
      "execution_count": null,
      "outputs": [
        {
          "output_type": "stream",
          "text": [
            "1\n",
            "2\n",
            "3\n",
            "4\n",
            "5\n",
            "7\n",
            "12\n"
          ],
          "name": "stdout"
        }
      ]
    },
    {
      "cell_type": "markdown",
      "metadata": {
        "id": "fN3ML8PN77nv"
      },
      "source": [
        "##Check if the first string is subsequence of second string or not."
      ]
    },
    {
      "cell_type": "code",
      "metadata": {
        "colab": {
          "base_uri": "https://localhost:8080/"
        },
        "id": "5nar9BA6-G_W",
        "outputId": "0ae4bdb8-2d6e-449a-a157-06ab77a40b62"
      },
      "source": [
        "print(None and True)"
      ],
      "execution_count": null,
      "outputs": [
        {
          "output_type": "stream",
          "text": [
            "None\n"
          ],
          "name": "stdout"
        }
      ]
    },
    {
      "cell_type": "code",
      "metadata": {
        "colab": {
          "base_uri": "https://localhost:8080/"
        },
        "id": "gOgLh1JF8HuZ",
        "outputId": "8fab8de0-92f8-440c-9f5b-f4b6628139e3"
      },
      "source": [
        "isSub = False\r\n",
        "string1 = \"hac\"\r\n",
        "string2 = \"cathartic\"\r\n",
        "for x in range(len(string1)):\r\n",
        "    for y in range(len(string2)):\r\n",
        "        # print(x,y, string2)\r\n",
        "        if string1[x]==string2[y]:\r\n",
        "            string2=string2[y+1:]\r\n",
        "            isSub = True\r\n",
        "            break\r\n",
        "        isSub=False\r\n",
        "if isSub:\r\n",
        "    print(\"Yes\")\r\n",
        "else:\r\n",
        "    print(\"No\")\r\n",
        "\r\n"
      ],
      "execution_count": null,
      "outputs": [
        {
          "output_type": "stream",
          "text": [
            "Yes\n"
          ],
          "name": "stdout"
        }
      ]
    },
    {
      "cell_type": "code",
      "metadata": {
        "colab": {
          "base_uri": "https://localhost:8080/"
        },
        "id": "6ZsJJHxAEI2B",
        "outputId": "625ec003-7564-4727-d629-df1723e738b1"
      },
      "source": [
        "def isSubsequence(string1, string2, index1, index2):\r\n",
        "    # if index2==len(string2):\r\n",
        "    #     return\r\n",
        "    print(\"{} {}\".format(string2[index2:], string1[index1:]))\r\n",
        "    if not string1[index1:]:\r\n",
        "        return True\r\n",
        "    if not string2[index2:]:\r\n",
        "        return False\r\n",
        "    \r\n",
        "    if string1[index1]==string2[index2]:\r\n",
        "        return True and isSubsequence(string1, string2, index1+1, index2+1)\r\n",
        "    return isSubsequence(string1, string2, index1, index2+1)\r\n",
        "string1 = \"gksrek\"\r\n",
        "string2 = \"geeksforgeeks\"\r\n",
        "isSubsequence(string1, string2, 0, 0)"
      ],
      "execution_count": null,
      "outputs": [
        {
          "output_type": "stream",
          "text": [
            "geeksforgeeks gksrek\n",
            "eeksforgeeks ksrek\n",
            "eksforgeeks ksrek\n",
            "ksforgeeks ksrek\n",
            "sforgeeks srek\n",
            "forgeeks rek\n",
            "orgeeks rek\n",
            "rgeeks rek\n",
            "geeks ek\n",
            "eeks ek\n",
            "eks k\n",
            "ks k\n",
            "s \n"
          ],
          "name": "stdout"
        },
        {
          "output_type": "execute_result",
          "data": {
            "text/plain": [
              "True"
            ]
          },
          "metadata": {
            "tags": []
          },
          "execution_count": 16
        }
      ]
    },
    {
      "cell_type": "markdown",
      "metadata": {
        "id": "M-uFAuT040-T"
      },
      "source": [
        "## Sort an array using Recursion"
      ]
    },
    {
      "cell_type": "markdown",
      "metadata": {
        "id": "iU-HBgkZBWYX"
      },
      "source": [
        "**To insert the element on right place**\r\n",
        "> ![image.png](data:image/png;base64,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)\r\n",
        "\r\n",
        "\r\n",
        "\r\n",
        "\r\n",
        "\r\n",
        "\r\n"
      ]
    },
    {
      "cell_type": "code",
      "metadata": {
        "id": "B6l9HusH8HT2"
      },
      "source": [
        "def insertAtRightPlace(arr, num):\r\n",
        "    if len(arr)==0 or arr[len(arr)-1]<=num:\r\n",
        "        arr.append(num)\r\n",
        "        return arr\r\n",
        "    last_ele = arr[len(arr)-1]\r\n",
        "    new_arr = insertAtRightPlace(arr[:len(arr)-1],num)\r\n",
        "    new_arr.append(last_ele)\r\n",
        "    return new_arr"
      ],
      "execution_count": null,
      "outputs": []
    },
    {
      "cell_type": "code",
      "metadata": {
        "colab": {
          "base_uri": "https://localhost:8080/"
        },
        "id": "Y39v7qNC9BE-",
        "outputId": "21d5847d-8ba3-4461-d7a5-7f6077d54250"
      },
      "source": [
        "insertAtRightPlace([0,1,5],2)"
      ],
      "execution_count": null,
      "outputs": [
        {
          "output_type": "execute_result",
          "data": {
            "text/plain": [
              "[0, 1, 2, 5]"
            ]
          },
          "metadata": {
            "tags": []
          },
          "execution_count": 28
        }
      ]
    },
    {
      "cell_type": "code",
      "metadata": {
        "id": "Gv97YmUh_tQA"
      },
      "source": [
        "def sortAnArray(array):\r\n",
        "    length = len(array)\r\n",
        "    if length<=1:\r\n",
        "        return array\r\n",
        "    return insertAtRightPlace(sortAnArray(array[:length-1]), array[length-1])"
      ],
      "execution_count": null,
      "outputs": []
    },
    {
      "cell_type": "code",
      "metadata": {
        "colab": {
          "base_uri": "https://localhost:8080/"
        },
        "id": "Q4MI5vgbDc01",
        "outputId": "ef7ad5ca-19bb-4a91-ae0e-910ac0e23233"
      },
      "source": [
        "sortAnArray([1,4,0,8,1,4])"
      ],
      "execution_count": null,
      "outputs": [
        {
          "output_type": "execute_result",
          "data": {
            "text/plain": [
              "[0, 1, 1, 4, 4, 8]"
            ]
          },
          "metadata": {
            "tags": []
          },
          "execution_count": 37
        }
      ]
    },
    {
      "cell_type": "code",
      "metadata": {
        "colab": {
          "base_uri": "https://localhost:8080/"
        },
        "id": "EqYG0tmhAT5n",
        "outputId": "b30b4090-5516-428e-9718-fc5dfad4b3f5"
      },
      "source": [
        "sortAnArray([9,8,0,4,2,9])"
      ],
      "execution_count": null,
      "outputs": [
        {
          "output_type": "execute_result",
          "data": {
            "text/plain": [
              "[0, 2, 4, 8, 9, 9]"
            ]
          },
          "metadata": {
            "tags": []
          },
          "execution_count": 33
        }
      ]
    },
    {
      "cell_type": "markdown",
      "metadata": {
        "id": "2oz3QuAHBmPK"
      },
      "source": [
        "##Sort an stack using Recursion"
      ]
    },
    {
      "cell_type": "code",
      "metadata": {
        "id": "ZbQkzjBNB2sS"
      },
      "source": [
        "class Node:\r\n",
        "    '''It simply creates a node'''\r\n",
        "    def __init__(self,data):\r\n",
        "        self.data=data\r\n",
        "        self.next=None"
      ],
      "execution_count": 7,
      "outputs": []
    },
    {
      "cell_type": "code",
      "metadata": {
        "id": "oXI3z3VUBkJM"
      },
      "source": [
        "class Stack:\r\n",
        "\r\n",
        "    def __init__(self):\r\n",
        "        self.head = None\r\n",
        "        self.num_elements = 0\r\n",
        "\r\n",
        "    def push(self, value):\r\n",
        "        new_node = Node(value)\r\n",
        "        # if stack is empty\r\n",
        "        if self.head is None:\r\n",
        "            self.head = new_node\r\n",
        "        else:\r\n",
        "            new_node.next = self.head # place the new node at the head (top) of the linked list\r\n",
        "            self.head = new_node\r\n",
        "\r\n",
        "        self.num_elements += 1\r\n",
        "\r\n",
        "    # TODO: Add the pop method\r\n",
        "    def pop(self):\r\n",
        "        if self.head==None:\r\n",
        "            return None\r\n",
        "        value=self.head.data\r\n",
        "        self.head=self.head.next\r\n",
        "        self.num_elements-=1\r\n",
        "        return value\r\n",
        "    def size(self):\r\n",
        "        return self.num_elements\r\n",
        "\r\n",
        "    def is_empty(self):\r\n",
        "        return self.num_elements == 0\r\n",
        "    \r\n",
        "    def print_stack(self):\r\n",
        "        tos = self.head\r\n",
        "        while(tos!=None):\r\n",
        "            print(tos.data, end=\"\\t\")\r\n",
        "            tos=tos.next\r\n",
        "    "
      ],
      "execution_count": 51,
      "outputs": []
    },
    {
      "cell_type": "code",
      "metadata": {
        "colab": {
          "base_uri": "https://localhost:8080/"
        },
        "id": "J__qEC88CCoE",
        "outputId": "14cabc8e-49e8-45ec-c5c5-928245f49927"
      },
      "source": [
        "new_Stack = Stack()\r\n",
        "collection = [1,5,0,2]\r\n",
        "for i in collection:\r\n",
        "    new_Stack.push(i)\r\n",
        "print(new_Stack.print_stack())"
      ],
      "execution_count": 56,
      "outputs": [
        {
          "output_type": "stream",
          "text": [
            "2\t0\t5\t1\tNone\n"
          ],
          "name": "stdout"
        }
      ]
    },
    {
      "cell_type": "code",
      "metadata": {
        "id": "eiCGLujbCkz6"
      },
      "source": [
        "def putNodeOnPos(tos,val):\r\n",
        "    # tos.print_stack()\r\n",
        "    if tos.head==None or tos.head.data<=val:\r\n",
        "        tos.push(val)\r\n",
        "        return tos\r\n",
        "    last_ele = tos.pop()\r\n",
        "    new_stck = putNodeOnPos(tos, val)\r\n",
        "    new_stck.push(last_ele)\r\n",
        "    return new_stck\r\n",
        "\r\n",
        "def sortStack(tos):\r\n",
        "    # tos.print_stack()\r\n",
        "    if tos.size()<=1:\r\n",
        "        return tos\r\n",
        "    val = tos.pop()\r\n",
        "    return putNodeOnPos(sortStack(tos), val)"
      ],
      "execution_count": 59,
      "outputs": []
    },
    {
      "cell_type": "code",
      "metadata": {
        "colab": {
          "base_uri": "https://localhost:8080/"
        },
        "id": "CusT92u4I7vp",
        "outputId": "264c41fe-08aa-4223-f096-bf3612baa2a6"
      },
      "source": [
        "x = sortStack(new_Stack)\r\n",
        "print(\"__________\")\r\n",
        "x.print_stack()"
      ],
      "execution_count": 60,
      "outputs": [
        {
          "output_type": "stream",
          "text": [
            "__________\n",
            "5\t2\t1\t0\t"
          ],
          "name": "stdout"
        }
      ]
    },
    {
      "cell_type": "markdown",
      "metadata": {
        "id": "7N-YngpwdV50"
      },
      "source": [
        "## Delete the middle element of Stack"
      ]
    },
    {
      "cell_type": "code",
      "metadata": {
        "id": "glgiWNBfddn-"
      },
      "source": [
        "def deleteHelperMethod(stack, position):\r\n",
        "    print(\"___________\")\r\n",
        "    stack.print_stack()\r\n",
        "    print(\"___________\")\r\n",
        "    if position == 1:\r\n",
        "        stack.pop()\r\n",
        "        return stack \r\n",
        "    top_element = stack.pop()\r\n",
        "    new_stack = deleteHelperMethod(stack, position-1)\r\n",
        "    new_stack.push(top_element)\r\n",
        "    print(\"+++++\", top_element)\r\n",
        "    new_stack.print_stack()\r\n",
        "    print(\"+++++\")\r\n",
        "    return new_stack\r\n",
        "def deleteMiddleElement(stack):\r\n",
        "    middle = (stack.size()//2)+1\r\n",
        "    # temp_stack = Stack()\r\n",
        "    return deleteHelperMethod(stack,middle)"
      ],
      "execution_count": 91,
      "outputs": []
    },
    {
      "cell_type": "code",
      "metadata": {
        "colab": {
          "base_uri": "https://localhost:8080/"
        },
        "id": "jPAhaXtzeivi",
        "outputId": "917170be-5a12-4c18-b30c-5625188d472e"
      },
      "source": [
        "y = Stack()\r\n",
        "for i in [1,2,3,4,5,6]:\r\n",
        "    y.push(i)\r\n",
        "y.print_stack()"
      ],
      "execution_count": 92,
      "outputs": [
        {
          "output_type": "stream",
          "text": [
            "6\t5\t4\t3\t2\t1\t"
          ],
          "name": "stdout"
        }
      ]
    },
    {
      "cell_type": "code",
      "metadata": {
        "colab": {
          "base_uri": "https://localhost:8080/"
        },
        "id": "NnAnx2Uleybq",
        "outputId": "62c57af6-8ef0-4c64-dc8b-3c16c9b6c979"
      },
      "source": [
        "new_delete_stack = deleteMiddleElement(y)\r\n",
        "# new_delete_stack.print_stack()"
      ],
      "execution_count": 93,
      "outputs": [
        {
          "output_type": "stream",
          "text": [
            "___________\n",
            "6\t5\t4\t3\t2\t1\t___________\n",
            "___________\n",
            "5\t4\t3\t2\t1\t___________\n",
            "___________\n",
            "4\t3\t2\t1\t___________\n",
            "___________\n",
            "3\t2\t1\t___________\n",
            "+++++ 4\n",
            "4\t2\t1\t+++++\n",
            "+++++ 5\n",
            "5\t4\t2\t1\t+++++\n",
            "+++++ 6\n",
            "6\t5\t4\t2\t1\t+++++\n"
          ],
          "name": "stdout"
        }
      ]
    },
    {
      "cell_type": "code",
      "metadata": {
        "colab": {
          "base_uri": "https://localhost:8080/"
        },
        "id": "bil7-6sbhu8p",
        "outputId": "0715e06c-6bd0-441d-de6b-725bd893ecb8"
      },
      "source": [
        "new_delete_stack.print_stack()"
      ],
      "execution_count": 94,
      "outputs": [
        {
          "output_type": "stream",
          "text": [
            "6\t5\t4\t2\t1\t"
          ],
          "name": "stdout"
        }
      ]
    }
  ]
}