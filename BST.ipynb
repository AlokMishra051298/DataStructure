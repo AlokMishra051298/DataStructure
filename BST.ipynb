{
 "cells": [
  {
   "cell_type": "code",
   "execution_count": 4,
   "metadata": {},
   "outputs": [],
   "source": [
    "class node:\n",
    "    '''It simply creates a node'''\n",
    "    def __init__(self,data):\n",
    "        self.data=data\n",
    "        self.right=None\n",
    "        self.left=None"
   ]
  },
  {
   "cell_type": "code",
   "execution_count": 3,
   "metadata": {},
   "outputs": [],
   "source": [
    "class bst:\n",
    "    #constructor\n",
    "    def __init__(self):\n",
    "        self.root=None\n",
    "    #if tree is not created\n",
    "    def create(self,data):\n",
    "        n=node(data)\n",
    "        self.root=n\n",
    "        return self.root\n",
    "    #adding node\n",
    "    def insert(self,data):\n",
    "        if self.root==None:\n",
    "            self.start=self.create(data)\n",
    "        else:\n",
    "            n=node(data)\n",
    "            self.other=self.root\n",
    "            while (self.other!=None):\n",
    "                right=self.other.right\n",
    "                left=self.other.left\n",
    "                if(data>=self.other.data):\n",
    "                    self.start=self.other\n",
    "                    self.other=right\n",
    "                    rig=1\n",
    "                elif(data<self.other.data):\n",
    "                    self.start=self.other\n",
    "                    self.other=left\n",
    "                    rig=0\n",
    "            if rig==0:\n",
    "                self.other=n\n",
    "                self.start.left=self.other\n",
    "            else:\n",
    "                self.other=n\n",
    "                self.start.right=self.other\n",
    "        return self.root"
   ]
  },
  {
   "cell_type": "code",
   "execution_count": null,
   "metadata": {},
   "outputs": [],
   "source": []
  }
 ],
 "metadata": {
  "kernelspec": {
   "display_name": "Python 3",
   "language": "python",
   "name": "python3"
  },
  "language_info": {
   "codemirror_mode": {
    "name": "ipython",
    "version": 3
   },
   "file_extension": ".py",
   "mimetype": "text/x-python",
   "name": "python",
   "nbconvert_exporter": "python",
   "pygments_lexer": "ipython3",
   "version": "3.7.1"
  }
 },
 "nbformat": 4,
 "nbformat_minor": 2
}
