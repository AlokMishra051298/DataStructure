{
 "cells": [
  {
   "cell_type": "markdown",
   "metadata": {},
   "source": [
    "# Node"
   ]
  },
  {
   "cell_type": "code",
   "execution_count": 8,
   "metadata": {},
   "outputs": [],
   "source": [
    "class node:\n",
    "    '''It simply creates a node'''\n",
    "    def __init__(self,data):\n",
    "        self.data=data\n",
    "        self.next=None"
   ]
  },
  {
   "cell_type": "code",
   "execution_count": 19,
   "metadata": {},
   "outputs": [],
   "source": [
    "class single:\n",
    "    def __init__(self):\n",
    "        self.head=None\n",
    "        \n",
    "    def create_head(self,data):\n",
    "        self.head=node(data)\n",
    "        return self.head\n",
    "    def insert(self,data):\n",
    "        if(self.head==None):\n",
    "            self.start=self.create_head(data)\n",
    "        else:    \n",
    "            temp=node(data)\n",
    "            self.start.next=temp\n",
    "            self.start=temp\n",
    "            return self.start\n",
    "    \n",
    "    def display(self):\n",
    "        temp=self.head\n",
    "        while(temp!=None):\n",
    "            print(temp.data,\"=>\",end=\"\")\n",
    "            temp=temp.next\n",
    "        print(\"None\")\n",
    "        \n",
    "    def rec_display(self,head):\n",
    "        if head.next==None:\n",
    "            print(head.data)\n",
    "            return \n",
    "        temp=head.next\n",
    "        self.rec_display(temp)\n",
    "        print(head.data)"
   ]
  },
  {
   "cell_type": "code",
   "execution_count": 57,
   "metadata": {},
   "outputs": [],
   "source": [
    "lis=single()\n",
    "lis.create([1,2,3,4,5])"
   ]
  },
  {
   "cell_type": "code",
   "execution_count": 58,
   "metadata": {
    "scrolled": false
   },
   "outputs": [
    {
     "name": "stdout",
     "output_type": "stream",
     "text": [
      "1 =>2 =>3 =>4 =>5 =>None\n"
     ]
    }
   ],
   "source": [
    "lis.display()"
   ]
  },
  {
   "cell_type": "code",
   "execution_count": 59,
   "metadata": {},
   "outputs": [
    {
     "name": "stdout",
     "output_type": "stream",
     "text": [
      "5\n",
      "4\n",
      "3\n",
      "2\n",
      "1\n"
     ]
    }
   ],
   "source": [
    "lis.rec_display(lis.head)"
   ]
  },
  {
   "cell_type": "code",
   "execution_count": 20,
   "metadata": {},
   "outputs": [
    {
     "name": "stdout",
     "output_type": "stream",
     "text": [
      "1\n",
      "2\n",
      "3\n",
      "4\n",
      "5\n",
      "6\n",
      "7\n",
      "8\n",
      "9\n",
      "1 =>2 =>3 =>4 =>5 =>6 =>7 =>8 =>9 =>None\n"
     ]
    }
   ],
   "source": [
    "f = open(\"test.txt\", \"r\")\n",
    "count=0\n",
    "for x in f:\n",
    "    x=x.strip('\\n')\n",
    "    #print(x)\n",
    "    count+=1\n",
    "    if count==1:\n",
    "        lis=single()\n",
    "    t=lis\n",
    "    start=lis.insert(x)\n",
    "lis.display()"
   ]
  }
 ],
 "metadata": {
  "kernelspec": {
   "display_name": "Python 3",
   "language": "python",
   "name": "python3"
  },
  "language_info": {
   "codemirror_mode": {
    "name": "ipython",
    "version": 3
   },
   "file_extension": ".py",
   "mimetype": "text/x-python",
   "name": "python",
   "nbconvert_exporter": "python",
   "pygments_lexer": "ipython3",
   "version": "3.7.1"
  }
 },
 "nbformat": 4,
 "nbformat_minor": 2
}
